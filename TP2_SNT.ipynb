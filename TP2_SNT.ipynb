{
 "cells": [
  {
   "cell_type": "markdown",
   "metadata": {},
   "source": [
    "# TP n°2 : Python et moi"
   ]
  },
  {
   "cell_type": "markdown",
   "metadata": {},
   "source": [
    "## Première partie: analyse d'un programme\n",
    "\n",
    "Dans le programme ci-dessous, quelles sont les variables? quels sont leurs types?"
   ]
  },
  {
   "cell_type": "code",
   "execution_count": null,
   "metadata": {},
   "outputs": [],
   "source": [
    "nom=input(\"Quel est votre nom? \\n\")\n",
    "print(f\"Enchanté {nom}, je suis Kaa ton python préféré!\\n\")\n",
    "texte=\"Quel âge as-tu \"+nom+\" ?\\n\"\n",
    "age=int(input(texte))\n",
    "print(f\"Si tu as {age} ans, tu est né-e en {2019-age}!!!\")\n",
    "taille=float(input(\"Quelle taille fais-tu (en m)?\\n\"))\n",
    "print(f\"Wow! tu fais donc {taille*100-40} cm de plus que moi {nom}, comme tu es grand-e!!!\")"
   ]
  },
  {
   "cell_type": "markdown",
   "metadata": {},
   "source": [
    "(on rappelle que la fonction \"type(...)\" permet de faire afficher le type de ...)"
   ]
  },
  {
   "cell_type": "code",
   "execution_count": null,
   "metadata": {},
   "outputs": [],
   "source": [
    "### ligne pour pouvoir essayer vos idées"
   ]
  },
  {
   "cell_type": "markdown",
   "metadata": {},
   "source": [
    "Deuxième exemple: quelles sont les valeurs et les types de a,c et e dans le programme ci-dessous?"
   ]
  },
  {
   "cell_type": "code",
   "execution_count": null,
   "metadata": {},
   "outputs": [],
   "source": [
    "a,b,c,d,e,f=12,4,4.53,'bonjour',['hello','world'],{'a','b','c'}"
   ]
  },
  {
   "cell_type": "code",
   "execution_count": null,
   "metadata": {},
   "outputs": [],
   "source": [
    "### ligne pour pouvoir essayer vos idées"
   ]
  },
  {
   "cell_type": "markdown",
   "metadata": {},
   "source": [
    "## Deuxième partie: en route vers votre premier programme"
   ]
  },
  {
   "cell_type": "markdown",
   "metadata": {},
   "source": [
    "On sait que pour mettre en place une instruction \"conditionnelle\" c'est-à-dire qui s'effectue lorsque qu'une \"condition\" est vérifiée, on utilise \"if... else\", corrigez le programme ci-dessous:"
   ]
  },
  {
   "cell_type": "code",
   "execution_count": null,
   "metadata": {},
   "outputs": [],
   "source": [
    "x=input('Valeur de x?')\n",
    "if x>100:\n",
    "    print('Ce nombre est grand')\n",
    "if x>200:\n",
    "    print('Ce nombre est très grand')\n",
    "else:\n",
    "    print('Ce nombre est petit')"
   ]
  },
  {
   "cell_type": "code",
   "execution_count": null,
   "metadata": {},
   "outputs": [],
   "source": []
  },
  {
   "cell_type": "markdown",
   "metadata": {},
   "source": [
    "## Troisième partie: dans le grand bain, man VS Kaa"
   ]
  },
  {
   "cell_type": "code",
   "execution_count": null,
   "metadata": {},
   "outputs": [],
   "source": [
    "from TP1_devine import *"
   ]
  },
  {
   "cell_type": "code",
   "execution_count": null,
   "metadata": {},
   "outputs": [],
   "source": [
    "joueurA(100)"
   ]
  },
  {
   "cell_type": "code",
   "execution_count": null,
   "metadata": {
    "collapsed": true
   },
   "outputs": [],
   "source": [
    "joueurB(200)"
   ]
  },
  {
   "cell_type": "markdown",
   "metadata": {},
   "source": [
    "Question **difficile**: analyser la partie de joueurA et de joueurB, expliquez combien de coups sont nécessaires au maximum pour deviner un nombre entre 1 et 100."
   ]
  },
  {
   "cell_type": "markdown",
   "metadata": {},
   "source": [
    "Question **très difficile**: reprendre le programme de TP1_devine.py et essayer de l'améliorer."
   ]
  },
  {
   "cell_type": "code",
   "execution_count": null,
   "metadata": {},
   "outputs": [],
   "source": []
  }
 ],
 "metadata": {
  "kernelspec": {
   "display_name": "Python 3",
   "language": "python",
   "name": "python3"
  },
  "language_info": {
   "codemirror_mode": {
    "name": "ipython",
    "version": 3
   },
   "file_extension": ".py",
   "mimetype": "text/x-python",
   "name": "python",
   "nbconvert_exporter": "python",
   "pygments_lexer": "ipython3",
   "version": "3.7.4"
  }
 },
 "nbformat": 4,
 "nbformat_minor": 2
}
